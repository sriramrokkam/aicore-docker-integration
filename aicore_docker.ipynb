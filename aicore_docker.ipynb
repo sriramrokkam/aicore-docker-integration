{
 "cells": [
  {
   "cell_type": "code",
   "execution_count": 2,
   "id": "ff703db8",
   "metadata": {},
   "outputs": [
    {
     "name": "stderr",
     "output_type": "stream",
     "text": [
      "/Users/I310202/Library/CloudStorage/OneDrive-SAPSE/SR@Work/2025/04.SCB/AICore_Docker/aicore_test/.venv/lib/python3.9/site-packages/urllib3/__init__.py:35: NotOpenSSLWarning: urllib3 v2 only supports OpenSSL 1.1.1+, currently the 'ssl' module is compiled with 'LibreSSL 2.8.3'. See: https://github.com/urllib3/urllib3/issues/3020\n",
      "  warnings.warn(\n"
     ]
    },
    {
     "name": "stdout",
     "output_type": "stream",
     "text": [
      "Resources: [], Count: 0\n",
      "['__class__', '__delattr__', '__dict__', '__dir__', '__doc__', '__eq__', '__format__', '__ge__', '__getattribute__', '__gt__', '__hash__', '__init__', '__init_subclass__', '__le__', '__lt__', '__module__', '__ne__', '__new__', '__reduce__', '__reduce_ex__', '__repr__', '__setattr__', '__sizeof__', '__str__', '__subclasshook__', '__weakref__', 'applications', 'artifact', 'base_url', 'configuration', 'deployment', 'docker_registry_secrets', 'executable', 'execution', 'from_env', 'kpis', 'logger', 'meta', 'metrics', 'model', 'object_store_secrets', 'repositories', 'resource_groups', 'rest_client', 'scenario', 'secrets']\n",
      "Help on AICoreV2Client in module ai_core_sdk.ai_core_v2_client object:\n",
      "\n",
      "class AICoreV2Client(builtins.object)\n",
      " |  AICoreV2Client(base_url: str, auth_url: str = None, client_id: str = None, client_secret: str = None, cert_str: str = None, key_str: str = None, cert_file_path: str = None, key_file_path: str = None, token_creator: Callable[[], str] = None, resource_group: str = None, read_timeout=60, connect_timeout=60, num_request_retries=3)\n",
      " |  \n",
      " |  The AICoreV2Client is the class implemented to interact with the AI Core endpoints. The user can use its\n",
      " |  attributes corresponding to the resources, for interacting with endpoints related to that resource. (i.e.,\n",
      " |  aicoreclient.scenario)\n",
      " |  \n",
      " |  :param base_url: Base URL of the AI Core. Should include the base path as well. (i.e., \"<base_url>/lm/scenarios\"\n",
      " |      should work)\n",
      " |  :type base_url: str\n",
      " |  :param auth_url: URL of the authorization endpoint. Should be the full URL (including /oauth/token), defaults to\n",
      " |      None\n",
      " |  :type auth_url: str, optional\n",
      " |  :param client_id: client id to be used for authorization, defaults to None\n",
      " |  :type client_id: str, optional\n",
      " |  :param client_secret: client secret to be used for authorization, defaults to None\n",
      " |  :type client_secret: str, optional\n",
      " |  :param cert_str: certificate file content, needs to be provided alongside the key_str parameter, defaults to None\n",
      " |  :type cert_str: str, optional\n",
      " |  :param key_str: key file content, needs to be provided alongside the cert_str parameter, defaults to None\n",
      " |  :type key_str: str, optional\n",
      " |  :param cert_file_path: path to the certificate file, needs to be provided alongside the key_file_path parameter,\n",
      " |      defaults to None\n",
      " |  :type cert_file_path: str, optional\n",
      " |  :param key_file_path: path to the key file, needs to be provided alongside the cert_file_path parameter,\n",
      " |      defaults to None\n",
      " |  :type key_file_path: str, optional\n",
      " |  :param token_creator: the function which returns the Bearer token, when called. Either this, or\n",
      " |      auth_url & client_id & client_secret should be specified, defaults to None\n",
      " |  :type token_creator: Callable[[], str], optional\n",
      " |  :param resource_group: The default resource group which will be used while sending the requests to the server. If\n",
      " |      not set, the resource_group should be specified with every request to the server, defaults to None\n",
      " |  :type resource_group: str, optional\n",
      " |  :param read_timeout: Read timeout for requests in seconds, defaults to 60s\n",
      " |  :type read_timeout: int\n",
      " |  :param connect_timeout: Connect timeout for requests in seconds, defaults to 60s\n",
      " |  :type connect_timeout: int\n",
      " |  :param num_request_retries: Number of retries for failing requests with http status code 429, 500, 502, 503 or 504,\n",
      " |      defaults to 60s\n",
      " |  :type num_request_retries: int\n",
      " |  \n",
      " |  Methods defined here:\n",
      " |  \n",
      " |  __init__(self, base_url: str, auth_url: str = None, client_id: str = None, client_secret: str = None, cert_str: str = None, key_str: str = None, cert_file_path: str = None, key_file_path: str = None, token_creator: Callable[[], str] = None, resource_group: str = None, read_timeout=60, connect_timeout=60, num_request_retries=3)\n",
      " |      Initialize self.  See help(type(self)) for accurate signature.\n",
      " |  \n",
      " |  ----------------------------------------------------------------------\n",
      " |  Static methods defined here:\n",
      " |  \n",
      " |  from_env(profile_name: str = None, **kwargs)\n",
      " |      Alternative way to create an AICoreV2Client object.\n",
      " |      Parameters for base_url, auth_url, client_id, client_secret, x.509 credentials (either as file path or string)\n",
      " |      and resource_group can be passed as keyword or are pulled from environment variables.\n",
      " |      It is also possible to use a profile, which is a json file in the config directory. The profile name can be\n",
      " |      passed as keyword or is pulled from the environment variable AICORE_PROFILE. If no profile is specified,\n",
      " |      the default profile is used.\n",
      " |      A specific path to a config, that should be used, can be set via the environment variable AICORE_CONFIG.\n",
      " |      The hierarchy of precedence is:\n",
      " |      1. keyword argument\n",
      " |      2. environment variable\n",
      " |      3. configuration file\n",
      " |      4. value from VCAP_SERVICES environment variable, if exists\n",
      " |      \n",
      " |      :param profile_name: name of the profile to use, defaults to None. If None is passed, the profile is read from\n",
      " |          the environment variable AICORE_PROFILE. If this is not set, the default profile is used.\n",
      " |          The default profile is read from $AICORE_HOME/config.json.\n",
      " |      :type profile_name: optional, str\n",
      " |      **kwargs: check the parameters of the class constructor\n",
      " |  \n",
      " |  ----------------------------------------------------------------------\n",
      " |  Data descriptors defined here:\n",
      " |  \n",
      " |  __dict__\n",
      " |      dictionary for instance variables (if defined)\n",
      " |  \n",
      " |  __weakref__\n",
      " |      list of weak references to the object (if defined)\n",
      " |  \n",
      " |  ----------------------------------------------------------------------\n",
      " |  Data and other attributes defined here:\n",
      " |  \n",
      " |  logger = <Logger ai_core_sdk (INFO)>\n",
      "\n"
     ]
    }
   ],
   "source": [
    "from ai_core_sdk.ai_core_v2_client import AICoreV2Client\n",
    "import json\n",
    "\n",
    "# Your service key JSON file relative to this notebook\n",
    "aic_service_key_path = 'aicore_skey.json' # Load Service Key JSON file from BTP AI Core Instance.\n",
    "\n",
    "# Loads the service key file\n",
    "with open(aic_service_key_path) as ask:\n",
    "    aic_service_key = json.load(ask)\n",
    "\n",
    "# Creating an AI API client instance\n",
    "ai_core_client = AICoreV2Client(\n",
    "    base_url = aic_service_key[\"serviceurls\"][\"AI_API_URL\"] + \"/v2\", # The present AI API version is 2\n",
    "    auth_url=  aic_service_key[\"url\"] + \"/oauth/token\",\n",
    "    client_id = aic_service_key['clientid'],\n",
    "    client_secret = aic_service_key['clientsecret']\n",
    ")\n",
    "\n",
    "# Debugging prints\n",
    "response = ai_core_client.repositories.query()\n",
    "print(response)\n",
    "print(dir(ai_core_client))\n",
    "help(ai_core_client)"
   ]
  },
  {
   "cell_type": "code",
   "execution_count": null,
   "id": "ee4f18f6",
   "metadata": {},
   "outputs": [
    {
     "ename": "AIAPINotFoundException",
     "evalue": "Failed to get /admin/applications/aicore-docker-app-v1/status: Application 'aicore-docker-app-v1' not found. \n Status Code: 404, Request ID:None",
     "output_type": "error",
     "traceback": [
      "\u001b[0;31m---------------------------------------------------------------------------\u001b[0m",
      "\u001b[0;31mAIAPINotFoundException\u001b[0m                    Traceback (most recent call last)",
      "Cell \u001b[0;32mIn[8], line 1\u001b[0m\n\u001b[0;32m----> 1\u001b[0m response \u001b[38;5;241m=\u001b[39m \u001b[43mai_core_client\u001b[49m\u001b[38;5;241;43m.\u001b[39;49m\u001b[43mapplications\u001b[49m\u001b[38;5;241;43m.\u001b[39;49m\u001b[43mget_status\u001b[49m\u001b[43m(\u001b[49m\u001b[43mapplication_name\u001b[49m\u001b[38;5;241;43m=\u001b[39;49m\u001b[38;5;124;43m'\u001b[39;49m\u001b[38;5;124;43maicore-docker-app-v1\u001b[39;49m\u001b[38;5;124;43m'\u001b[39;49m\u001b[43m)\u001b[49m\n\u001b[1;32m      3\u001b[0m \u001b[38;5;28mprint\u001b[39m(response\u001b[38;5;241m.\u001b[39mmessage)\n\u001b[1;32m      4\u001b[0m \u001b[38;5;28;01mfor\u001b[39;00m sync_status \u001b[38;5;129;01min\u001b[39;00m response\u001b[38;5;241m.\u001b[39msync_ressources_status:\n",
      "File \u001b[0;32m~/Library/CloudStorage/OneDrive-SAPSE/SR@Work/2025/04.SCB/AICore_Docker/aicore_test/.venv/lib/python3.9/site-packages/ai_core_sdk/resource_clients/applications_client.py:110\u001b[0m, in \u001b[0;36mApplicationsClient.get_status\u001b[0;34m(self, application_name)\u001b[0m\n\u001b[1;32m     94\u001b[0m \u001b[38;5;28;01mdef\u001b[39;00m\u001b[38;5;250m \u001b[39m\u001b[38;5;21mget_status\u001b[39m(\u001b[38;5;28mself\u001b[39m, application_name: \u001b[38;5;28mstr\u001b[39m) \u001b[38;5;241m-\u001b[39m\u001b[38;5;241m>\u001b[39m ApplicationStatus:\n\u001b[1;32m     95\u001b[0m \u001b[38;5;250m    \u001b[39m\u001b[38;5;124;03m\"\"\"Retrieves the application status from the server.\u001b[39;00m\n\u001b[1;32m     96\u001b[0m \n\u001b[1;32m     97\u001b[0m \u001b[38;5;124;03m    :param application_name: name of the application\u001b[39;00m\n\u001b[0;32m   (...)\u001b[0m\n\u001b[1;32m    108\u001b[0m \u001b[38;5;124;03m    :rtype: class:`ai_core_sdk.models.application_status.ApplicationStatus`\u001b[39;00m\n\u001b[1;32m    109\u001b[0m \u001b[38;5;124;03m    \"\"\"\u001b[39;00m\n\u001b[0;32m--> 110\u001b[0m     response_dict \u001b[38;5;241m=\u001b[39m \u001b[38;5;28;43mself\u001b[39;49m\u001b[38;5;241;43m.\u001b[39;49m\u001b[43mrest_client\u001b[49m\u001b[38;5;241;43m.\u001b[39;49m\u001b[43mget\u001b[49m\u001b[43m(\u001b[49m\u001b[43mpath\u001b[49m\u001b[38;5;241;43m=\u001b[39;49m\u001b[38;5;124;43mf\u001b[39;49m\u001b[38;5;124;43m'\u001b[39;49m\u001b[38;5;132;43;01m{\u001b[39;49;00m\u001b[38;5;28;43mself\u001b[39;49m\u001b[38;5;241;43m.\u001b[39;49m\u001b[43m__PATH\u001b[49m\u001b[38;5;132;43;01m}\u001b[39;49;00m\u001b[38;5;124;43m/\u001b[39;49m\u001b[38;5;132;43;01m{\u001b[39;49;00m\u001b[43mapplication_name\u001b[49m\u001b[38;5;132;43;01m}\u001b[39;49;00m\u001b[38;5;124;43m/status\u001b[39;49m\u001b[38;5;124;43m'\u001b[39;49m\u001b[43m)\u001b[49m\n\u001b[1;32m    111\u001b[0m     \u001b[38;5;28;01mreturn\u001b[39;00m ApplicationStatus\u001b[38;5;241m.\u001b[39mfrom_dict(response_dict)\n",
      "File \u001b[0;32m~/Library/CloudStorage/OneDrive-SAPSE/SR@Work/2025/04.SCB/AICore_Docker/aicore_test/.venv/lib/python3.9/site-packages/ai_api_client_sdk/helpers/rest_client.py:196\u001b[0m, in \u001b[0;36mRestClient.get\u001b[0;34m(self, path, params, headers, resource_group, return_bytes_content, **kwargs)\u001b[0m\n\u001b[1;32m    166\u001b[0m \u001b[38;5;28;01mdef\u001b[39;00m\u001b[38;5;250m \u001b[39m\u001b[38;5;21mget\u001b[39m(\u001b[38;5;28mself\u001b[39m, path: \u001b[38;5;28mstr\u001b[39m, params: Dict[\u001b[38;5;28mstr\u001b[39m, \u001b[38;5;28mstr\u001b[39m] \u001b[38;5;241m=\u001b[39m \u001b[38;5;28;01mNone\u001b[39;00m, headers: Dict[\u001b[38;5;28mstr\u001b[39m, \u001b[38;5;28mstr\u001b[39m] \u001b[38;5;241m=\u001b[39m \u001b[38;5;28;01mNone\u001b[39;00m,\n\u001b[1;32m    167\u001b[0m         resource_group: \u001b[38;5;28mstr\u001b[39m \u001b[38;5;241m=\u001b[39m \u001b[38;5;28;01mNone\u001b[39;00m, return_bytes_content: \u001b[38;5;28mbool\u001b[39m \u001b[38;5;241m=\u001b[39m \u001b[38;5;28;01mFalse\u001b[39;00m, \u001b[38;5;241m*\u001b[39m\u001b[38;5;241m*\u001b[39mkwargs) \u001b[38;5;241m-\u001b[39m\u001b[38;5;241m>\u001b[39m Union[\u001b[38;5;28mdict\u001b[39m, \u001b[38;5;28mint\u001b[39m]:\n\u001b[1;32m    168\u001b[0m \u001b[38;5;250m    \u001b[39m\u001b[38;5;124;03m\"\"\"Sends a GET request to the server.\u001b[39;00m\n\u001b[1;32m    169\u001b[0m \n\u001b[1;32m    170\u001b[0m \u001b[38;5;124;03m    :param path: path of the endpoint the request should be sent to\u001b[39;00m\n\u001b[0;32m   (...)\u001b[0m\n\u001b[1;32m    194\u001b[0m \u001b[38;5;124;03m    :rtype: Union[dict, int]\u001b[39;00m\n\u001b[1;32m    195\u001b[0m \u001b[38;5;124;03m    \"\"\"\u001b[39;00m\n\u001b[0;32m--> 196\u001b[0m     \u001b[38;5;28;01mreturn\u001b[39;00m \u001b[38;5;28;43mself\u001b[39;49m\u001b[38;5;241;43m.\u001b[39;49m\u001b[43m_handle_request\u001b[49m\u001b[43m(\u001b[49m\u001b[38;5;124;43m'\u001b[39;49m\u001b[38;5;124;43mget\u001b[39;49m\u001b[38;5;124;43m'\u001b[39;49m\u001b[43m,\u001b[49m\u001b[43m \u001b[49m\u001b[43mpath\u001b[49m\u001b[38;5;241;43m=\u001b[39;49m\u001b[43mpath\u001b[49m\u001b[43m,\u001b[49m\u001b[43m \u001b[49m\u001b[43mparams\u001b[49m\u001b[38;5;241;43m=\u001b[39;49m\u001b[43mparams\u001b[49m\u001b[43m,\u001b[49m\u001b[43m \u001b[49m\u001b[43mheaders\u001b[49m\u001b[38;5;241;43m=\u001b[39;49m\u001b[43mheaders\u001b[49m\u001b[43m,\u001b[49m\n\u001b[1;32m    197\u001b[0m \u001b[43m                                \u001b[49m\u001b[43mresource_group\u001b[49m\u001b[38;5;241;43m=\u001b[39;49m\u001b[43mresource_group\u001b[49m\u001b[43m,\u001b[49m\u001b[43m \u001b[49m\u001b[43mreturn_bytes_content\u001b[49m\u001b[38;5;241;43m=\u001b[39;49m\u001b[43mreturn_bytes_content\u001b[49m\u001b[43m,\u001b[49m\u001b[43m \u001b[49m\u001b[38;5;241;43m*\u001b[39;49m\u001b[38;5;241;43m*\u001b[39;49m\u001b[43mkwargs\u001b[49m\u001b[43m)\u001b[49m\n",
      "File \u001b[0;32m~/Library/CloudStorage/OneDrive-SAPSE/SR@Work/2025/04.SCB/AICore_Docker/aicore_test/.venv/lib/python3.9/site-packages/ai_api_client_sdk/helpers/rest_client.py:104\u001b[0m, in \u001b[0;36mRestClient._handle_request\u001b[0;34m(self, method, path, params, body_json, headers, resource_group, return_bytes_content, **kwargs)\u001b[0m\n\u001b[1;32m    101\u001b[0m     response_json \u001b[38;5;241m=\u001b[39m response\u001b[38;5;241m.\u001b[39mtext\n\u001b[1;32m    103\u001b[0m \u001b[38;5;28;01mif\u001b[39;00m \u001b[38;5;28mtype\u001b[39m(response_json) \u001b[38;5;129;01mis\u001b[39;00m \u001b[38;5;28mdict\u001b[39m \u001b[38;5;129;01mand\u001b[39;00m \u001b[38;5;124m'\u001b[39m\u001b[38;5;124merror\u001b[39m\u001b[38;5;124m'\u001b[39m \u001b[38;5;129;01min\u001b[39;00m response_json:\n\u001b[0;32m--> 104\u001b[0m     \u001b[38;5;28;43mself\u001b[39;49m\u001b[38;5;241;43m.\u001b[39;49m\u001b[43mraise_ai_api_exception\u001b[49m\u001b[43m(\u001b[49m\u001b[43merror_description\u001b[49m\u001b[43m,\u001b[49m\u001b[43m \u001b[49m\u001b[43mresponse\u001b[49m\u001b[43m,\u001b[49m\u001b[43m \u001b[49m\u001b[43mresponse_json\u001b[49m\u001b[43m)\u001b[49m\n\u001b[1;32m    105\u001b[0m \u001b[38;5;28;01melif\u001b[39;00m response\u001b[38;5;241m.\u001b[39mstatus_code \u001b[38;5;241m/\u001b[39m\u001b[38;5;241m/\u001b[39m \u001b[38;5;241m100\u001b[39m \u001b[38;5;241m!=\u001b[39m \u001b[38;5;241m2\u001b[39m:\n\u001b[1;32m    106\u001b[0m     \u001b[38;5;28;01mraise\u001b[39;00m AIAPIServerException(description\u001b[38;5;241m=\u001b[39merror_description, error_message\u001b[38;5;241m=\u001b[39mresponse\u001b[38;5;241m.\u001b[39mtext,\n\u001b[1;32m    107\u001b[0m                                status_code\u001b[38;5;241m=\u001b[39mresponse\u001b[38;5;241m.\u001b[39mstatus_code)\n",
      "File \u001b[0;32m~/Library/CloudStorage/OneDrive-SAPSE/SR@Work/2025/04.SCB/AICore_Docker/aicore_test/.venv/lib/python3.9/site-packages/ai_api_client_sdk/helpers/rest_client.py:124\u001b[0m, in \u001b[0;36mRestClient.raise_ai_api_exception\u001b[0;34m(error_description, response, response_json)\u001b[0m\n\u001b[1;32m    121\u001b[0m     \u001b[38;5;28;01mraise\u001b[39;00m AIAPIInvalidRequestException(description\u001b[38;5;241m=\u001b[39merror_description, error_message\u001b[38;5;241m=\u001b[39merror_message,\n\u001b[1;32m    122\u001b[0m                                        error_code\u001b[38;5;241m=\u001b[39merror_code, request_id\u001b[38;5;241m=\u001b[39mrequest_id, details\u001b[38;5;241m=\u001b[39merror_details)\n\u001b[1;32m    123\u001b[0m \u001b[38;5;28;01melif\u001b[39;00m status_code \u001b[38;5;241m==\u001b[39m \u001b[38;5;241m404\u001b[39m:\n\u001b[0;32m--> 124\u001b[0m     \u001b[38;5;28;01mraise\u001b[39;00m AIAPINotFoundException(description\u001b[38;5;241m=\u001b[39merror_description, error_message\u001b[38;5;241m=\u001b[39merror_message,\n\u001b[1;32m    125\u001b[0m                                  error_code\u001b[38;5;241m=\u001b[39merror_code, request_id\u001b[38;5;241m=\u001b[39mrequest_id, details\u001b[38;5;241m=\u001b[39merror_details)\n\u001b[1;32m    126\u001b[0m \u001b[38;5;28;01melif\u001b[39;00m status_code \u001b[38;5;241m==\u001b[39m \u001b[38;5;241m412\u001b[39m:\n\u001b[1;32m    127\u001b[0m     \u001b[38;5;28;01mraise\u001b[39;00m AIAPIPreconditionFailedException(description\u001b[38;5;241m=\u001b[39merror_description, error_message\u001b[38;5;241m=\u001b[39merror_message,\n\u001b[1;32m    128\u001b[0m                                            error_code\u001b[38;5;241m=\u001b[39merror_code, request_id\u001b[38;5;241m=\u001b[39mrequest_id,\n\u001b[1;32m    129\u001b[0m                                            details\u001b[38;5;241m=\u001b[39merror_details)\n",
      "\u001b[0;31mAIAPINotFoundException\u001b[0m: Failed to get /admin/applications/aicore-docker-app-v1/status: Application 'aicore-docker-app-v1' not found. \n Status Code: 404, Request ID:None"
     ]
    }
   ],
   "source": [
    "response = ai_core_client.applications.get_status(application_name='aicore-docker-app-v2')\n",
    "\n",
    "print(response.message)\n",
    "for sync_status in response.sync_ressources_status:\n",
    "    print(sync_status.__dict__)\n"
   ]
  }
 ],
 "metadata": {
  "kernelspec": {
   "display_name": ".venv",
   "language": "python",
   "name": "python3"
  },
  "language_info": {
   "codemirror_mode": {
    "name": "ipython",
    "version": 3
   },
   "file_extension": ".py",
   "mimetype": "text/x-python",
   "name": "python",
   "nbconvert_exporter": "python",
   "pygments_lexer": "ipython3",
   "version": "3.9.6"
  }
 },
 "nbformat": 4,
 "nbformat_minor": 5
}
